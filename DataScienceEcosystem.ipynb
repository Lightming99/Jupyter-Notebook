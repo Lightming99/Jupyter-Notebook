{
 "cells": [
  {
   "cell_type": "markdown",
   "id": "ab65f622-b05b-4b1a-b9c0-76fb72ebed2a",
   "metadata": {},
   "source": [
    "# Data Science Tools and Ecosystem"
   ]
  },

  {
   "cell_type": "markdown",
   "id": "bb66aa29-9527-4018-b5aa-f970ddca6368",
   "metadata": {},
   "source": [
    "> Data Science Tools and Ecosystem"
   ]
  },

  {
   "cell_type": "markdown",
   "id": "e19f70b6-34e4-469d-9f10-2036ee760e29",
   "metadata": {},
   "source": [
    "**Objectives** \n",
    "* Data Science Languages\n",
    "* Data Science Libraries\n",
    "* Open Source Software For Data Science"
   ]
  },

  {
   "cell_type": "markdown",
   "id": "58798509-86c1-4fea-9ae9-6edc4533fab2",
   "metadata": {},
   "source": [
    " Some of the popular languages that Data Scientists use are:\n",
    " <ol>\n",
    "    <li>Python\n",
    "    <li>R Programing\n",
    "    <li>SQL\n",
    "    </ol>\n"
   ]
  },

  {
   "cell_type": "markdown",
   "id": "23b9effd-ffb6-4c09-abc9-6f46d962b73d",
   "metadata": {},
   "source": [
    "Some of the commonly used libraries used by Data Scientists include:\n",
    "    <ol>\n",
    "    <li> NumPy\n",
    "    <li> PyTorch\n",
    "    <li> Pandas\n",
    "    </ol>"
   ]
  },
  
  {
   "cell_type": "markdown",
   "id": "c59a341a-0e09-4b3a-8de7-e08697c31ec2",
   "metadata": {},
   "source": [
    "| Data Science Tools |\n",
    "| :---------------------: |\n",
    "| Jupyter Notebook |\n",
    "| R Studio |\n",
    "| GitHub |"
   ]
  },
 
  {
   "cell_type": "markdown",
   "id": "409c34a7-52d1-4939-ba18-5ef040918c68",
   "metadata": {},
   "source": [
    "### Below are a few examples of evaluating arithmetic expressions in Python"
   ]
  },
 
  {
   "cell_type": "code",
   "execution_count": 1,
   "id": "ca4c1ceb-f441-415a-bc35-c23eab300a6c",
   "metadata": {},
   "outputs": [
    {
     "name": "stdout",
     "output_type": "stream",
     "text": [
      "17\n"
     ]
    }
   ],
   "source": [
    "a = 3\n",
    "b = 4\n",
    "c = 5\n",
    "d = (a*b)+c\n",
    "print (d)"
   ]
  },
  {
   "cell_type": "code",
   "execution_count": 2,
   "id": "9a5d5a85-887a-4832-8b09-105bc29bfbc9",
   "metadata": {},
   "outputs": [
    {
     "name": "stdout",
     "output_type": "stream",
     "text": [
      "3.3333333333333335\n"
     ]
    }
   ],
   "source": [
    "min = 200\n",
    "hrs = 200/60\n",
    "print (hrs)"
   ]
  },
  
  {
   "cell_type": "markdown",
   "id": "04684335-dabf-4735-9fad-511da5db25d1",
   "metadata": {},
   "source": [
    "## Author\n",
    "Anmol"
   ]
  }
 ],
 "metadata": {
  "kernelspec": {
   "display_name": "Python",
   "language": "python",
   "name": "conda-env-python-py"
  },
  "language_info": {
   "codemirror_mode": {
    "name": "ipython",
    "version": 3
   },
   "file_extension": ".py",
   "mimetype": "text/x-python",
   "name": "python",
   "nbconvert_exporter": "python",
   "pygments_lexer": "ipython3",
   "version": "3.7.12"
  }
 },
 "nbformat": 4,
 "nbformat_minor": 5
}
